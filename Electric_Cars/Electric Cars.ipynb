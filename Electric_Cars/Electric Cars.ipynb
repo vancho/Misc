{
 "cells": [
  {
   "cell_type": "code",
   "execution_count": 2,
   "id": "initial_id",
   "metadata": {
    "collapsed": true,
    "ExecuteTime": {
     "end_time": "2023-11-07T19:41:56.084641400Z",
     "start_time": "2023-11-07T19:41:56.074463300Z"
    }
   },
   "outputs": [],
   "source": [
    "# Importing Pandas for data manipulation \n",
    "import pandas as pd"
   ]
  },
  {
   "cell_type": "code",
   "execution_count": 19,
   "outputs": [
    {
     "data": {
      "text/plain": "        VIN (1-10)    County        City State  Postal Code  Model Year  \\\n0       5UXTA6C05P    Yakima      Yakima    WA      98903.0        2023   \n1       5YJRE11B48       NaN         NaN    BC          NaN        2008   \n2       5YJSA1E24G      King     Seattle    WA      98103.0        2016   \n3       1N4AZ1CP5J      King   Shoreline    WA      98177.0        2018   \n4       5YJ3E1EA6J    Island  Coupeville    WA      98239.0        2018   \n...            ...       ...         ...   ...          ...         ...   \n153825  1N4AZ0CP0D  San Juan   Eastsound    WA      98245.0        2013   \n153826  5YJSA1E27H   Spokane     Spokane    WA      99223.0        2017   \n153827  1G1FW6S03P      King      Seatac    WA      98188.0        2023   \n153828  3FMTK3SU1M      King        Kent    WA      98031.0        2021   \n153829  1N4AZ0CP0D    Pierce      Tacoma    WA      98407.0        2013   \n\n             Make           Model                   Electric Vehicle Type  \\\n0             BMW              X5  Plug-in Hybrid Electric Vehicle (PHEV)   \n1           TESLA        ROADSTER          Battery Electric Vehicle (BEV)   \n2           TESLA         MODEL S          Battery Electric Vehicle (BEV)   \n3          NISSAN            LEAF          Battery Electric Vehicle (BEV)   \n4           TESLA         MODEL 3          Battery Electric Vehicle (BEV)   \n...           ...             ...                                     ...   \n153825     NISSAN            LEAF          Battery Electric Vehicle (BEV)   \n153826      TESLA         MODEL S          Battery Electric Vehicle (BEV)   \n153827  CHEVROLET         BOLT EV          Battery Electric Vehicle (BEV)   \n153828       FORD  MUSTANG MACH-E          Battery Electric Vehicle (BEV)   \n153829     NISSAN            LEAF          Battery Electric Vehicle (BEV)   \n\n        Clean Alternative Fuel Vehicle (CAFV) Eligibility  Electric Range  \\\n0                 Clean Alternative Fuel Vehicle Eligible              30   \n1                 Clean Alternative Fuel Vehicle Eligible             220   \n2                 Clean Alternative Fuel Vehicle Eligible             210   \n3                 Clean Alternative Fuel Vehicle Eligible             151   \n4                 Clean Alternative Fuel Vehicle Eligible             215   \n...                                                   ...             ...   \n153825            Clean Alternative Fuel Vehicle Eligible              75   \n153826            Clean Alternative Fuel Vehicle Eligible             210   \n153827  Eligibility unknown as battery range has not b...               0   \n153828  Eligibility unknown as battery range has not b...               0   \n153829            Clean Alternative Fuel Vehicle Eligible              75   \n\n        Base MSRP  Legislative District  DOL Vehicle ID  \\\n0               0                  14.0       227153587   \n1           98950                   NaN       143609049   \n2               0                  43.0       187728201   \n3               0                  32.0       249867971   \n4               0                  10.0       223792649   \n...           ...                   ...             ...   \n153825          0                  40.0       154379130   \n153826          0                   6.0       204991475   \n153827          0                  33.0       244720059   \n153828          0                  33.0       186104215   \n153829          0                  27.0       153724504   \n\n                       Vehicle Location  \\\n0         POINT (-120.477805 46.553505)   \n1                                   NaN   \n2          POINT (-122.34301 47.659185)   \n3          POINT (-122.382425 47.77279)   \n4       POINT (-122.6880708 48.2179983)   \n...                                 ...   \n153825   POINT (-122.907229 48.7016716)   \n153826     POINT (-117.369705 47.62637)   \n153827      POINT (-122.29179 47.43473)   \n153828  POINT (-122.2012521 47.3931814)   \n153829  POINT (-122.5113356 47.2923828)   \n\n                                         Electric Utility  2020 Census Tract  \n0                                              PACIFICORP       5.307700e+10  \n1                                                     NaN                NaN  \n2            CITY OF SEATTLE - (WA)|CITY OF TACOMA - (WA)       5.303300e+10  \n3            CITY OF SEATTLE - (WA)|CITY OF TACOMA - (WA)       5.303302e+10  \n4                                  PUGET SOUND ENERGY INC       5.302997e+10  \n...                                                   ...                ...  \n153825  BONNEVILLE POWER ADMINISTRATION||ORCAS POWER &...       5.305596e+10  \n153826  BONNEVILLE POWER ADMINISTRATION||INLAND POWER ...       5.306301e+10  \n153827      PUGET SOUND ENERGY INC||CITY OF TACOMA - (WA)       5.303303e+10  \n153828      PUGET SOUND ENERGY INC||CITY OF TACOMA - (WA)       5.303303e+10  \n153829  BONNEVILLE POWER ADMINISTRATION||CITY OF TACOM...       5.305306e+10  \n\n[153830 rows x 17 columns]",
      "text/html": "<div>\n<style scoped>\n    .dataframe tbody tr th:only-of-type {\n        vertical-align: middle;\n    }\n\n    .dataframe tbody tr th {\n        vertical-align: top;\n    }\n\n    .dataframe thead th {\n        text-align: right;\n    }\n</style>\n<table border=\"1\" class=\"dataframe\">\n  <thead>\n    <tr style=\"text-align: right;\">\n      <th></th>\n      <th>VIN (1-10)</th>\n      <th>County</th>\n      <th>City</th>\n      <th>State</th>\n      <th>Postal Code</th>\n      <th>Model Year</th>\n      <th>Make</th>\n      <th>Model</th>\n      <th>Electric Vehicle Type</th>\n      <th>Clean Alternative Fuel Vehicle (CAFV) Eligibility</th>\n      <th>Electric Range</th>\n      <th>Base MSRP</th>\n      <th>Legislative District</th>\n      <th>DOL Vehicle ID</th>\n      <th>Vehicle Location</th>\n      <th>Electric Utility</th>\n      <th>2020 Census Tract</th>\n    </tr>\n  </thead>\n  <tbody>\n    <tr>\n      <th>0</th>\n      <td>5UXTA6C05P</td>\n      <td>Yakima</td>\n      <td>Yakima</td>\n      <td>WA</td>\n      <td>98903.0</td>\n      <td>2023</td>\n      <td>BMW</td>\n      <td>X5</td>\n      <td>Plug-in Hybrid Electric Vehicle (PHEV)</td>\n      <td>Clean Alternative Fuel Vehicle Eligible</td>\n      <td>30</td>\n      <td>0</td>\n      <td>14.0</td>\n      <td>227153587</td>\n      <td>POINT (-120.477805 46.553505)</td>\n      <td>PACIFICORP</td>\n      <td>5.307700e+10</td>\n    </tr>\n    <tr>\n      <th>1</th>\n      <td>5YJRE11B48</td>\n      <td>NaN</td>\n      <td>NaN</td>\n      <td>BC</td>\n      <td>NaN</td>\n      <td>2008</td>\n      <td>TESLA</td>\n      <td>ROADSTER</td>\n      <td>Battery Electric Vehicle (BEV)</td>\n      <td>Clean Alternative Fuel Vehicle Eligible</td>\n      <td>220</td>\n      <td>98950</td>\n      <td>NaN</td>\n      <td>143609049</td>\n      <td>NaN</td>\n      <td>NaN</td>\n      <td>NaN</td>\n    </tr>\n    <tr>\n      <th>2</th>\n      <td>5YJSA1E24G</td>\n      <td>King</td>\n      <td>Seattle</td>\n      <td>WA</td>\n      <td>98103.0</td>\n      <td>2016</td>\n      <td>TESLA</td>\n      <td>MODEL S</td>\n      <td>Battery Electric Vehicle (BEV)</td>\n      <td>Clean Alternative Fuel Vehicle Eligible</td>\n      <td>210</td>\n      <td>0</td>\n      <td>43.0</td>\n      <td>187728201</td>\n      <td>POINT (-122.34301 47.659185)</td>\n      <td>CITY OF SEATTLE - (WA)|CITY OF TACOMA - (WA)</td>\n      <td>5.303300e+10</td>\n    </tr>\n    <tr>\n      <th>3</th>\n      <td>1N4AZ1CP5J</td>\n      <td>King</td>\n      <td>Shoreline</td>\n      <td>WA</td>\n      <td>98177.0</td>\n      <td>2018</td>\n      <td>NISSAN</td>\n      <td>LEAF</td>\n      <td>Battery Electric Vehicle (BEV)</td>\n      <td>Clean Alternative Fuel Vehicle Eligible</td>\n      <td>151</td>\n      <td>0</td>\n      <td>32.0</td>\n      <td>249867971</td>\n      <td>POINT (-122.382425 47.77279)</td>\n      <td>CITY OF SEATTLE - (WA)|CITY OF TACOMA - (WA)</td>\n      <td>5.303302e+10</td>\n    </tr>\n    <tr>\n      <th>4</th>\n      <td>5YJ3E1EA6J</td>\n      <td>Island</td>\n      <td>Coupeville</td>\n      <td>WA</td>\n      <td>98239.0</td>\n      <td>2018</td>\n      <td>TESLA</td>\n      <td>MODEL 3</td>\n      <td>Battery Electric Vehicle (BEV)</td>\n      <td>Clean Alternative Fuel Vehicle Eligible</td>\n      <td>215</td>\n      <td>0</td>\n      <td>10.0</td>\n      <td>223792649</td>\n      <td>POINT (-122.6880708 48.2179983)</td>\n      <td>PUGET SOUND ENERGY INC</td>\n      <td>5.302997e+10</td>\n    </tr>\n    <tr>\n      <th>...</th>\n      <td>...</td>\n      <td>...</td>\n      <td>...</td>\n      <td>...</td>\n      <td>...</td>\n      <td>...</td>\n      <td>...</td>\n      <td>...</td>\n      <td>...</td>\n      <td>...</td>\n      <td>...</td>\n      <td>...</td>\n      <td>...</td>\n      <td>...</td>\n      <td>...</td>\n      <td>...</td>\n      <td>...</td>\n    </tr>\n    <tr>\n      <th>153825</th>\n      <td>1N4AZ0CP0D</td>\n      <td>San Juan</td>\n      <td>Eastsound</td>\n      <td>WA</td>\n      <td>98245.0</td>\n      <td>2013</td>\n      <td>NISSAN</td>\n      <td>LEAF</td>\n      <td>Battery Electric Vehicle (BEV)</td>\n      <td>Clean Alternative Fuel Vehicle Eligible</td>\n      <td>75</td>\n      <td>0</td>\n      <td>40.0</td>\n      <td>154379130</td>\n      <td>POINT (-122.907229 48.7016716)</td>\n      <td>BONNEVILLE POWER ADMINISTRATION||ORCAS POWER &amp;...</td>\n      <td>5.305596e+10</td>\n    </tr>\n    <tr>\n      <th>153826</th>\n      <td>5YJSA1E27H</td>\n      <td>Spokane</td>\n      <td>Spokane</td>\n      <td>WA</td>\n      <td>99223.0</td>\n      <td>2017</td>\n      <td>TESLA</td>\n      <td>MODEL S</td>\n      <td>Battery Electric Vehicle (BEV)</td>\n      <td>Clean Alternative Fuel Vehicle Eligible</td>\n      <td>210</td>\n      <td>0</td>\n      <td>6.0</td>\n      <td>204991475</td>\n      <td>POINT (-117.369705 47.62637)</td>\n      <td>BONNEVILLE POWER ADMINISTRATION||INLAND POWER ...</td>\n      <td>5.306301e+10</td>\n    </tr>\n    <tr>\n      <th>153827</th>\n      <td>1G1FW6S03P</td>\n      <td>King</td>\n      <td>Seatac</td>\n      <td>WA</td>\n      <td>98188.0</td>\n      <td>2023</td>\n      <td>CHEVROLET</td>\n      <td>BOLT EV</td>\n      <td>Battery Electric Vehicle (BEV)</td>\n      <td>Eligibility unknown as battery range has not b...</td>\n      <td>0</td>\n      <td>0</td>\n      <td>33.0</td>\n      <td>244720059</td>\n      <td>POINT (-122.29179 47.43473)</td>\n      <td>PUGET SOUND ENERGY INC||CITY OF TACOMA - (WA)</td>\n      <td>5.303303e+10</td>\n    </tr>\n    <tr>\n      <th>153828</th>\n      <td>3FMTK3SU1M</td>\n      <td>King</td>\n      <td>Kent</td>\n      <td>WA</td>\n      <td>98031.0</td>\n      <td>2021</td>\n      <td>FORD</td>\n      <td>MUSTANG MACH-E</td>\n      <td>Battery Electric Vehicle (BEV)</td>\n      <td>Eligibility unknown as battery range has not b...</td>\n      <td>0</td>\n      <td>0</td>\n      <td>33.0</td>\n      <td>186104215</td>\n      <td>POINT (-122.2012521 47.3931814)</td>\n      <td>PUGET SOUND ENERGY INC||CITY OF TACOMA - (WA)</td>\n      <td>5.303303e+10</td>\n    </tr>\n    <tr>\n      <th>153829</th>\n      <td>1N4AZ0CP0D</td>\n      <td>Pierce</td>\n      <td>Tacoma</td>\n      <td>WA</td>\n      <td>98407.0</td>\n      <td>2013</td>\n      <td>NISSAN</td>\n      <td>LEAF</td>\n      <td>Battery Electric Vehicle (BEV)</td>\n      <td>Clean Alternative Fuel Vehicle Eligible</td>\n      <td>75</td>\n      <td>0</td>\n      <td>27.0</td>\n      <td>153724504</td>\n      <td>POINT (-122.5113356 47.2923828)</td>\n      <td>BONNEVILLE POWER ADMINISTRATION||CITY OF TACOM...</td>\n      <td>5.305306e+10</td>\n    </tr>\n  </tbody>\n</table>\n<p>153830 rows × 17 columns</p>\n</div>"
     },
     "execution_count": 19,
     "metadata": {},
     "output_type": "execute_result"
    }
   ],
   "source": [
    "# Loading dataframe and looking fo unneeded columns\n",
    "df = pd.read_csv(r\"C:\\Users\\iluch\\My Drive\\DA\\My\\Portfolio\\Electric_Cars\\Electric_Vehicle_Population_Data.csv\")\n",
    "df"
   ],
   "metadata": {
    "collapsed": false,
    "ExecuteTime": {
     "end_time": "2023-11-07T19:55:53.738031300Z",
     "start_time": "2023-11-07T19:55:53.477860100Z"
    }
   },
   "id": "6b2d6310fb9beac5"
  },
  {
   "cell_type": "code",
   "execution_count": 20,
   "outputs": [
    {
     "data": {
      "text/plain": "       State  Postal Code  Model Year       Make           Model  \\\n0         WA      98903.0        2023        BMW              X5   \n1         BC          NaN        2008      TESLA        ROADSTER   \n2         WA      98103.0        2016      TESLA         MODEL S   \n3         WA      98177.0        2018     NISSAN            LEAF   \n4         WA      98239.0        2018      TESLA         MODEL 3   \n...      ...          ...         ...        ...             ...   \n153825    WA      98245.0        2013     NISSAN            LEAF   \n153826    WA      99223.0        2017      TESLA         MODEL S   \n153827    WA      98188.0        2023  CHEVROLET         BOLT EV   \n153828    WA      98031.0        2021       FORD  MUSTANG MACH-E   \n153829    WA      98407.0        2013     NISSAN            LEAF   \n\n                         Electric Vehicle Type  DOL Vehicle ID  \n0       Plug-in Hybrid Electric Vehicle (PHEV)       227153587  \n1               Battery Electric Vehicle (BEV)       143609049  \n2               Battery Electric Vehicle (BEV)       187728201  \n3               Battery Electric Vehicle (BEV)       249867971  \n4               Battery Electric Vehicle (BEV)       223792649  \n...                                        ...             ...  \n153825          Battery Electric Vehicle (BEV)       154379130  \n153826          Battery Electric Vehicle (BEV)       204991475  \n153827          Battery Electric Vehicle (BEV)       244720059  \n153828          Battery Electric Vehicle (BEV)       186104215  \n153829          Battery Electric Vehicle (BEV)       153724504  \n\n[153830 rows x 7 columns]",
      "text/html": "<div>\n<style scoped>\n    .dataframe tbody tr th:only-of-type {\n        vertical-align: middle;\n    }\n\n    .dataframe tbody tr th {\n        vertical-align: top;\n    }\n\n    .dataframe thead th {\n        text-align: right;\n    }\n</style>\n<table border=\"1\" class=\"dataframe\">\n  <thead>\n    <tr style=\"text-align: right;\">\n      <th></th>\n      <th>State</th>\n      <th>Postal Code</th>\n      <th>Model Year</th>\n      <th>Make</th>\n      <th>Model</th>\n      <th>Electric Vehicle Type</th>\n      <th>DOL Vehicle ID</th>\n    </tr>\n  </thead>\n  <tbody>\n    <tr>\n      <th>0</th>\n      <td>WA</td>\n      <td>98903.0</td>\n      <td>2023</td>\n      <td>BMW</td>\n      <td>X5</td>\n      <td>Plug-in Hybrid Electric Vehicle (PHEV)</td>\n      <td>227153587</td>\n    </tr>\n    <tr>\n      <th>1</th>\n      <td>BC</td>\n      <td>NaN</td>\n      <td>2008</td>\n      <td>TESLA</td>\n      <td>ROADSTER</td>\n      <td>Battery Electric Vehicle (BEV)</td>\n      <td>143609049</td>\n    </tr>\n    <tr>\n      <th>2</th>\n      <td>WA</td>\n      <td>98103.0</td>\n      <td>2016</td>\n      <td>TESLA</td>\n      <td>MODEL S</td>\n      <td>Battery Electric Vehicle (BEV)</td>\n      <td>187728201</td>\n    </tr>\n    <tr>\n      <th>3</th>\n      <td>WA</td>\n      <td>98177.0</td>\n      <td>2018</td>\n      <td>NISSAN</td>\n      <td>LEAF</td>\n      <td>Battery Electric Vehicle (BEV)</td>\n      <td>249867971</td>\n    </tr>\n    <tr>\n      <th>4</th>\n      <td>WA</td>\n      <td>98239.0</td>\n      <td>2018</td>\n      <td>TESLA</td>\n      <td>MODEL 3</td>\n      <td>Battery Electric Vehicle (BEV)</td>\n      <td>223792649</td>\n    </tr>\n    <tr>\n      <th>...</th>\n      <td>...</td>\n      <td>...</td>\n      <td>...</td>\n      <td>...</td>\n      <td>...</td>\n      <td>...</td>\n      <td>...</td>\n    </tr>\n    <tr>\n      <th>153825</th>\n      <td>WA</td>\n      <td>98245.0</td>\n      <td>2013</td>\n      <td>NISSAN</td>\n      <td>LEAF</td>\n      <td>Battery Electric Vehicle (BEV)</td>\n      <td>154379130</td>\n    </tr>\n    <tr>\n      <th>153826</th>\n      <td>WA</td>\n      <td>99223.0</td>\n      <td>2017</td>\n      <td>TESLA</td>\n      <td>MODEL S</td>\n      <td>Battery Electric Vehicle (BEV)</td>\n      <td>204991475</td>\n    </tr>\n    <tr>\n      <th>153827</th>\n      <td>WA</td>\n      <td>98188.0</td>\n      <td>2023</td>\n      <td>CHEVROLET</td>\n      <td>BOLT EV</td>\n      <td>Battery Electric Vehicle (BEV)</td>\n      <td>244720059</td>\n    </tr>\n    <tr>\n      <th>153828</th>\n      <td>WA</td>\n      <td>98031.0</td>\n      <td>2021</td>\n      <td>FORD</td>\n      <td>MUSTANG MACH-E</td>\n      <td>Battery Electric Vehicle (BEV)</td>\n      <td>186104215</td>\n    </tr>\n    <tr>\n      <th>153829</th>\n      <td>WA</td>\n      <td>98407.0</td>\n      <td>2013</td>\n      <td>NISSAN</td>\n      <td>LEAF</td>\n      <td>Battery Electric Vehicle (BEV)</td>\n      <td>153724504</td>\n    </tr>\n  </tbody>\n</table>\n<p>153830 rows × 7 columns</p>\n</div>"
     },
     "execution_count": 20,
     "metadata": {},
     "output_type": "execute_result"
    }
   ],
   "source": [
    "# Deleting unneeded columns\n",
    "df = df.drop(\n",
    "    columns=['VIN (1-10)', 'County', 'City', 'Clean Alternative Fuel Vehicle (CAFV) Eligibility', 'Electric Range',\n",
    "             'Base MSRP', 'Legislative District', 'Vehicle Location', 'Electric Utility', '2020 Census Tract'])\n",
    "df"
   ],
   "metadata": {
    "collapsed": false,
    "ExecuteTime": {
     "end_time": "2023-11-07T19:55:56.525501900Z",
     "start_time": "2023-11-07T19:55:56.498618300Z"
    }
   },
   "id": "b843d573a6bb8bdf"
  },
  {
   "cell_type": "code",
   "execution_count": 21,
   "outputs": [
    {
     "data": {
      "text/plain": "       State  Postal Code  Model Year       Make           Model  \\\n0         WA      98903.0        2023        BMW              X5   \n2         WA      98103.0        2016      TESLA         MODEL S   \n3         WA      98177.0        2018     NISSAN            LEAF   \n4         WA      98239.0        2018      TESLA         MODEL 3   \n5         WA      98380.0        2017  CHEVROLET         BOLT EV   \n...      ...          ...         ...        ...             ...   \n153825    WA      98245.0        2013     NISSAN            LEAF   \n153826    WA      99223.0        2017      TESLA         MODEL S   \n153827    WA      98188.0        2023  CHEVROLET         BOLT EV   \n153828    WA      98031.0        2021       FORD  MUSTANG MACH-E   \n153829    WA      98407.0        2013     NISSAN            LEAF   \n\n                         Electric Vehicle Type  DOL Vehicle ID  \n0       Plug-in Hybrid Electric Vehicle (PHEV)       227153587  \n2               Battery Electric Vehicle (BEV)       187728201  \n3               Battery Electric Vehicle (BEV)       249867971  \n4               Battery Electric Vehicle (BEV)       223792649  \n5               Battery Electric Vehicle (BEV)       125032974  \n...                                        ...             ...  \n153825          Battery Electric Vehicle (BEV)       154379130  \n153826          Battery Electric Vehicle (BEV)       204991475  \n153827          Battery Electric Vehicle (BEV)       244720059  \n153828          Battery Electric Vehicle (BEV)       186104215  \n153829          Battery Electric Vehicle (BEV)       153724504  \n\n[153491 rows x 7 columns]",
      "text/html": "<div>\n<style scoped>\n    .dataframe tbody tr th:only-of-type {\n        vertical-align: middle;\n    }\n\n    .dataframe tbody tr th {\n        vertical-align: top;\n    }\n\n    .dataframe thead th {\n        text-align: right;\n    }\n</style>\n<table border=\"1\" class=\"dataframe\">\n  <thead>\n    <tr style=\"text-align: right;\">\n      <th></th>\n      <th>State</th>\n      <th>Postal Code</th>\n      <th>Model Year</th>\n      <th>Make</th>\n      <th>Model</th>\n      <th>Electric Vehicle Type</th>\n      <th>DOL Vehicle ID</th>\n    </tr>\n  </thead>\n  <tbody>\n    <tr>\n      <th>0</th>\n      <td>WA</td>\n      <td>98903.0</td>\n      <td>2023</td>\n      <td>BMW</td>\n      <td>X5</td>\n      <td>Plug-in Hybrid Electric Vehicle (PHEV)</td>\n      <td>227153587</td>\n    </tr>\n    <tr>\n      <th>2</th>\n      <td>WA</td>\n      <td>98103.0</td>\n      <td>2016</td>\n      <td>TESLA</td>\n      <td>MODEL S</td>\n      <td>Battery Electric Vehicle (BEV)</td>\n      <td>187728201</td>\n    </tr>\n    <tr>\n      <th>3</th>\n      <td>WA</td>\n      <td>98177.0</td>\n      <td>2018</td>\n      <td>NISSAN</td>\n      <td>LEAF</td>\n      <td>Battery Electric Vehicle (BEV)</td>\n      <td>249867971</td>\n    </tr>\n    <tr>\n      <th>4</th>\n      <td>WA</td>\n      <td>98239.0</td>\n      <td>2018</td>\n      <td>TESLA</td>\n      <td>MODEL 3</td>\n      <td>Battery Electric Vehicle (BEV)</td>\n      <td>223792649</td>\n    </tr>\n    <tr>\n      <th>5</th>\n      <td>WA</td>\n      <td>98380.0</td>\n      <td>2017</td>\n      <td>CHEVROLET</td>\n      <td>BOLT EV</td>\n      <td>Battery Electric Vehicle (BEV)</td>\n      <td>125032974</td>\n    </tr>\n    <tr>\n      <th>...</th>\n      <td>...</td>\n      <td>...</td>\n      <td>...</td>\n      <td>...</td>\n      <td>...</td>\n      <td>...</td>\n      <td>...</td>\n    </tr>\n    <tr>\n      <th>153825</th>\n      <td>WA</td>\n      <td>98245.0</td>\n      <td>2013</td>\n      <td>NISSAN</td>\n      <td>LEAF</td>\n      <td>Battery Electric Vehicle (BEV)</td>\n      <td>154379130</td>\n    </tr>\n    <tr>\n      <th>153826</th>\n      <td>WA</td>\n      <td>99223.0</td>\n      <td>2017</td>\n      <td>TESLA</td>\n      <td>MODEL S</td>\n      <td>Battery Electric Vehicle (BEV)</td>\n      <td>204991475</td>\n    </tr>\n    <tr>\n      <th>153827</th>\n      <td>WA</td>\n      <td>98188.0</td>\n      <td>2023</td>\n      <td>CHEVROLET</td>\n      <td>BOLT EV</td>\n      <td>Battery Electric Vehicle (BEV)</td>\n      <td>244720059</td>\n    </tr>\n    <tr>\n      <th>153828</th>\n      <td>WA</td>\n      <td>98031.0</td>\n      <td>2021</td>\n      <td>FORD</td>\n      <td>MUSTANG MACH-E</td>\n      <td>Battery Electric Vehicle (BEV)</td>\n      <td>186104215</td>\n    </tr>\n    <tr>\n      <th>153829</th>\n      <td>WA</td>\n      <td>98407.0</td>\n      <td>2013</td>\n      <td>NISSAN</td>\n      <td>LEAF</td>\n      <td>Battery Electric Vehicle (BEV)</td>\n      <td>153724504</td>\n    </tr>\n  </tbody>\n</table>\n<p>153491 rows × 7 columns</p>\n</div>"
     },
     "execution_count": 21,
     "metadata": {},
     "output_type": "execute_result"
    }
   ],
   "source": [
    "# Removing all vehicles that are not located in Washington state\n",
    "df = df[df['State'] == 'WA']\n",
    "df"
   ],
   "metadata": {
    "collapsed": false,
    "ExecuteTime": {
     "end_time": "2023-11-07T19:55:59.275446500Z",
     "start_time": "2023-11-07T19:55:59.248386500Z"
    }
   },
   "id": "27313ac17c1ffba6"
  },
  {
   "cell_type": "code",
   "execution_count": 22,
   "outputs": [
    {
     "data": {
      "text/plain": "       State  Postal Code  Model Year       Make           Model  \\\n0         WA      98903.0        2023        BMW              X5   \n2         WA      98103.0        2016      TESLA         MODEL S   \n3         WA      98177.0        2018     NISSAN            LEAF   \n4         WA      98239.0        2018      TESLA         MODEL 3   \n5         WA      98380.0        2017  CHEVROLET         BOLT EV   \n...      ...          ...         ...        ...             ...   \n153825    WA      98245.0        2013     NISSAN            LEAF   \n153826    WA      99223.0        2017      TESLA         MODEL S   \n153827    WA      98188.0        2023  CHEVROLET         BOLT EV   \n153828    WA      98031.0        2021       FORD  MUSTANG MACH-E   \n153829    WA      98407.0        2013     NISSAN            LEAF   \n\n                         Electric Vehicle Type  DOL Vehicle ID  \n0       Plug-in Hybrid Electric Vehicle (PHEV)       227153587  \n2               Battery Electric Vehicle (BEV)       187728201  \n3               Battery Electric Vehicle (BEV)       249867971  \n4               Battery Electric Vehicle (BEV)       223792649  \n5               Battery Electric Vehicle (BEV)       125032974  \n...                                        ...             ...  \n153825          Battery Electric Vehicle (BEV)       154379130  \n153826          Battery Electric Vehicle (BEV)       204991475  \n153827          Battery Electric Vehicle (BEV)       244720059  \n153828          Battery Electric Vehicle (BEV)       186104215  \n153829          Battery Electric Vehicle (BEV)       153724504  \n\n[153491 rows x 7 columns]",
      "text/html": "<div>\n<style scoped>\n    .dataframe tbody tr th:only-of-type {\n        vertical-align: middle;\n    }\n\n    .dataframe tbody tr th {\n        vertical-align: top;\n    }\n\n    .dataframe thead th {\n        text-align: right;\n    }\n</style>\n<table border=\"1\" class=\"dataframe\">\n  <thead>\n    <tr style=\"text-align: right;\">\n      <th></th>\n      <th>State</th>\n      <th>Postal Code</th>\n      <th>Model Year</th>\n      <th>Make</th>\n      <th>Model</th>\n      <th>Electric Vehicle Type</th>\n      <th>DOL Vehicle ID</th>\n    </tr>\n  </thead>\n  <tbody>\n    <tr>\n      <th>0</th>\n      <td>WA</td>\n      <td>98903.0</td>\n      <td>2023</td>\n      <td>BMW</td>\n      <td>X5</td>\n      <td>Plug-in Hybrid Electric Vehicle (PHEV)</td>\n      <td>227153587</td>\n    </tr>\n    <tr>\n      <th>2</th>\n      <td>WA</td>\n      <td>98103.0</td>\n      <td>2016</td>\n      <td>TESLA</td>\n      <td>MODEL S</td>\n      <td>Battery Electric Vehicle (BEV)</td>\n      <td>187728201</td>\n    </tr>\n    <tr>\n      <th>3</th>\n      <td>WA</td>\n      <td>98177.0</td>\n      <td>2018</td>\n      <td>NISSAN</td>\n      <td>LEAF</td>\n      <td>Battery Electric Vehicle (BEV)</td>\n      <td>249867971</td>\n    </tr>\n    <tr>\n      <th>4</th>\n      <td>WA</td>\n      <td>98239.0</td>\n      <td>2018</td>\n      <td>TESLA</td>\n      <td>MODEL 3</td>\n      <td>Battery Electric Vehicle (BEV)</td>\n      <td>223792649</td>\n    </tr>\n    <tr>\n      <th>5</th>\n      <td>WA</td>\n      <td>98380.0</td>\n      <td>2017</td>\n      <td>CHEVROLET</td>\n      <td>BOLT EV</td>\n      <td>Battery Electric Vehicle (BEV)</td>\n      <td>125032974</td>\n    </tr>\n    <tr>\n      <th>...</th>\n      <td>...</td>\n      <td>...</td>\n      <td>...</td>\n      <td>...</td>\n      <td>...</td>\n      <td>...</td>\n      <td>...</td>\n    </tr>\n    <tr>\n      <th>153825</th>\n      <td>WA</td>\n      <td>98245.0</td>\n      <td>2013</td>\n      <td>NISSAN</td>\n      <td>LEAF</td>\n      <td>Battery Electric Vehicle (BEV)</td>\n      <td>154379130</td>\n    </tr>\n    <tr>\n      <th>153826</th>\n      <td>WA</td>\n      <td>99223.0</td>\n      <td>2017</td>\n      <td>TESLA</td>\n      <td>MODEL S</td>\n      <td>Battery Electric Vehicle (BEV)</td>\n      <td>204991475</td>\n    </tr>\n    <tr>\n      <th>153827</th>\n      <td>WA</td>\n      <td>98188.0</td>\n      <td>2023</td>\n      <td>CHEVROLET</td>\n      <td>BOLT EV</td>\n      <td>Battery Electric Vehicle (BEV)</td>\n      <td>244720059</td>\n    </tr>\n    <tr>\n      <th>153828</th>\n      <td>WA</td>\n      <td>98031.0</td>\n      <td>2021</td>\n      <td>FORD</td>\n      <td>MUSTANG MACH-E</td>\n      <td>Battery Electric Vehicle (BEV)</td>\n      <td>186104215</td>\n    </tr>\n    <tr>\n      <th>153829</th>\n      <td>WA</td>\n      <td>98407.0</td>\n      <td>2013</td>\n      <td>NISSAN</td>\n      <td>LEAF</td>\n      <td>Battery Electric Vehicle (BEV)</td>\n      <td>153724504</td>\n    </tr>\n  </tbody>\n</table>\n<p>153491 rows × 7 columns</p>\n</div>"
     },
     "execution_count": 22,
     "metadata": {},
     "output_type": "execute_result"
    }
   ],
   "source": [
    "df.loc[df['Model Year'] == 2024, 'Model Year'] = 2023\n",
    "df"
   ],
   "metadata": {
    "collapsed": false,
    "ExecuteTime": {
     "end_time": "2023-11-07T19:56:02.105716700Z",
     "start_time": "2023-11-07T19:56:02.076512500Z"
    }
   },
   "id": "be24050009eabb70"
  },
  {
   "cell_type": "code",
   "execution_count": 23,
   "outputs": [],
   "source": [
    "df.to_csv('Electric Cars Filtered.csv', index=False)"
   ],
   "metadata": {
    "collapsed": false,
    "ExecuteTime": {
     "end_time": "2023-11-07T19:57:34.178258400Z",
     "start_time": "2023-11-07T19:57:33.791727Z"
    }
   },
   "id": "a556f7458dde5fbe"
  }
 ],
 "metadata": {
  "kernelspec": {
   "display_name": "Python 3",
   "language": "python",
   "name": "python3"
  },
  "language_info": {
   "codemirror_mode": {
    "name": "ipython",
    "version": 2
   },
   "file_extension": ".py",
   "mimetype": "text/x-python",
   "name": "python",
   "nbconvert_exporter": "python",
   "pygments_lexer": "ipython2",
   "version": "2.7.6"
  }
 },
 "nbformat": 4,
 "nbformat_minor": 5
}
